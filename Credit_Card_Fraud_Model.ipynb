{
  "nbformat": 4,
  "nbformat_minor": 0,
  "metadata": {
    "colab": {
      "name": "Credit-Card-Fraud-Model.ipynb",
      "provenance": [],
      "mount_file_id": "1_GqZ-Y_4HUEBKZMRHdMIAwbkwZG3SMCL",
      "authorship_tag": "ABX9TyM7daIa/0ZSFRW4alZF+QdV",
      "include_colab_link": true
    },
    "kernelspec": {
      "name": "python3",
      "display_name": "Python 3"
    }
  },
  "cells": [
    {
      "cell_type": "markdown",
      "metadata": {
        "id": "view-in-github",
        "colab_type": "text"
      },
      "source": [
        "<a href=\"https://colab.research.google.com/github/PTson2207/CreditCard-FraudModel/blob/main/Credit_Card_Fraud_Model.ipynb\" target=\"_parent\"><img src=\"https://colab.research.google.com/assets/colab-badge.svg\" alt=\"Open In Colab\"/></a>"
      ]
    },
    {
      "cell_type": "markdown",
      "metadata": {
        "id": "p0HMN6xwKc7q"
      },
      "source": [
        "    Mô hình gian lận thẻ tín dụng được xây dựng dựa vào bộ data được lấy từ Kaggle.\r\n",
        "    Hợp Pháp: 0\r\n",
        "    Gian Lận: 1"
      ]
    },
    {
      "cell_type": "code",
      "metadata": {
        "id": "dTJC4RNjn_vh"
      },
      "source": [
        "import pandas as pd\r\n",
        "import numpy as np\r\n",
        "import matplotlib.pyplot as plt"
      ],
      "execution_count": 1,
      "outputs": []
    },
    {
      "cell_type": "code",
      "metadata": {
        "id": "fyWSLWGWoZC3"
      },
      "source": [
        "df = pd.read_csv('/content/drive/MyDrive/Financial Modelling/Credit Card Fraud Model(Mô hình tài chính định lượng)/creditcard.csv')"
      ],
      "execution_count": 2,
      "outputs": []
    },
    {
      "cell_type": "code",
      "metadata": {
        "colab": {
          "base_uri": "https://localhost:8080/",
          "height": 224
        },
        "id": "f04EpFZvojjw",
        "outputId": "b4f23a67-611e-4c17-9f91-9d17cc7ebae7"
      },
      "source": [
        "df.head()"
      ],
      "execution_count": 3,
      "outputs": [
        {
          "output_type": "execute_result",
          "data": {
            "text/html": [
              "<div>\n",
              "<style scoped>\n",
              "    .dataframe tbody tr th:only-of-type {\n",
              "        vertical-align: middle;\n",
              "    }\n",
              "\n",
              "    .dataframe tbody tr th {\n",
              "        vertical-align: top;\n",
              "    }\n",
              "\n",
              "    .dataframe thead th {\n",
              "        text-align: right;\n",
              "    }\n",
              "</style>\n",
              "<table border=\"1\" class=\"dataframe\">\n",
              "  <thead>\n",
              "    <tr style=\"text-align: right;\">\n",
              "      <th></th>\n",
              "      <th>Time</th>\n",
              "      <th>V1</th>\n",
              "      <th>V2</th>\n",
              "      <th>V3</th>\n",
              "      <th>V4</th>\n",
              "      <th>V5</th>\n",
              "      <th>V6</th>\n",
              "      <th>V7</th>\n",
              "      <th>V8</th>\n",
              "      <th>V9</th>\n",
              "      <th>V10</th>\n",
              "      <th>V11</th>\n",
              "      <th>V12</th>\n",
              "      <th>V13</th>\n",
              "      <th>V14</th>\n",
              "      <th>V15</th>\n",
              "      <th>V16</th>\n",
              "      <th>V17</th>\n",
              "      <th>V18</th>\n",
              "      <th>V19</th>\n",
              "      <th>V20</th>\n",
              "      <th>V21</th>\n",
              "      <th>V22</th>\n",
              "      <th>V23</th>\n",
              "      <th>V24</th>\n",
              "      <th>V25</th>\n",
              "      <th>V26</th>\n",
              "      <th>V27</th>\n",
              "      <th>V28</th>\n",
              "      <th>Amount</th>\n",
              "      <th>Class</th>\n",
              "    </tr>\n",
              "  </thead>\n",
              "  <tbody>\n",
              "    <tr>\n",
              "      <th>0</th>\n",
              "      <td>0.0</td>\n",
              "      <td>-1.359807</td>\n",
              "      <td>-0.072781</td>\n",
              "      <td>2.536347</td>\n",
              "      <td>1.378155</td>\n",
              "      <td>-0.338321</td>\n",
              "      <td>0.462388</td>\n",
              "      <td>0.239599</td>\n",
              "      <td>0.098698</td>\n",
              "      <td>0.363787</td>\n",
              "      <td>0.090794</td>\n",
              "      <td>-0.551600</td>\n",
              "      <td>-0.617801</td>\n",
              "      <td>-0.991390</td>\n",
              "      <td>-0.311169</td>\n",
              "      <td>1.468177</td>\n",
              "      <td>-0.470401</td>\n",
              "      <td>0.207971</td>\n",
              "      <td>0.025791</td>\n",
              "      <td>0.403993</td>\n",
              "      <td>0.251412</td>\n",
              "      <td>-0.018307</td>\n",
              "      <td>0.277838</td>\n",
              "      <td>-0.110474</td>\n",
              "      <td>0.066928</td>\n",
              "      <td>0.128539</td>\n",
              "      <td>-0.189115</td>\n",
              "      <td>0.133558</td>\n",
              "      <td>-0.021053</td>\n",
              "      <td>149.62</td>\n",
              "      <td>0</td>\n",
              "    </tr>\n",
              "    <tr>\n",
              "      <th>1</th>\n",
              "      <td>0.0</td>\n",
              "      <td>1.191857</td>\n",
              "      <td>0.266151</td>\n",
              "      <td>0.166480</td>\n",
              "      <td>0.448154</td>\n",
              "      <td>0.060018</td>\n",
              "      <td>-0.082361</td>\n",
              "      <td>-0.078803</td>\n",
              "      <td>0.085102</td>\n",
              "      <td>-0.255425</td>\n",
              "      <td>-0.166974</td>\n",
              "      <td>1.612727</td>\n",
              "      <td>1.065235</td>\n",
              "      <td>0.489095</td>\n",
              "      <td>-0.143772</td>\n",
              "      <td>0.635558</td>\n",
              "      <td>0.463917</td>\n",
              "      <td>-0.114805</td>\n",
              "      <td>-0.183361</td>\n",
              "      <td>-0.145783</td>\n",
              "      <td>-0.069083</td>\n",
              "      <td>-0.225775</td>\n",
              "      <td>-0.638672</td>\n",
              "      <td>0.101288</td>\n",
              "      <td>-0.339846</td>\n",
              "      <td>0.167170</td>\n",
              "      <td>0.125895</td>\n",
              "      <td>-0.008983</td>\n",
              "      <td>0.014724</td>\n",
              "      <td>2.69</td>\n",
              "      <td>0</td>\n",
              "    </tr>\n",
              "    <tr>\n",
              "      <th>2</th>\n",
              "      <td>1.0</td>\n",
              "      <td>-1.358354</td>\n",
              "      <td>-1.340163</td>\n",
              "      <td>1.773209</td>\n",
              "      <td>0.379780</td>\n",
              "      <td>-0.503198</td>\n",
              "      <td>1.800499</td>\n",
              "      <td>0.791461</td>\n",
              "      <td>0.247676</td>\n",
              "      <td>-1.514654</td>\n",
              "      <td>0.207643</td>\n",
              "      <td>0.624501</td>\n",
              "      <td>0.066084</td>\n",
              "      <td>0.717293</td>\n",
              "      <td>-0.165946</td>\n",
              "      <td>2.345865</td>\n",
              "      <td>-2.890083</td>\n",
              "      <td>1.109969</td>\n",
              "      <td>-0.121359</td>\n",
              "      <td>-2.261857</td>\n",
              "      <td>0.524980</td>\n",
              "      <td>0.247998</td>\n",
              "      <td>0.771679</td>\n",
              "      <td>0.909412</td>\n",
              "      <td>-0.689281</td>\n",
              "      <td>-0.327642</td>\n",
              "      <td>-0.139097</td>\n",
              "      <td>-0.055353</td>\n",
              "      <td>-0.059752</td>\n",
              "      <td>378.66</td>\n",
              "      <td>0</td>\n",
              "    </tr>\n",
              "    <tr>\n",
              "      <th>3</th>\n",
              "      <td>1.0</td>\n",
              "      <td>-0.966272</td>\n",
              "      <td>-0.185226</td>\n",
              "      <td>1.792993</td>\n",
              "      <td>-0.863291</td>\n",
              "      <td>-0.010309</td>\n",
              "      <td>1.247203</td>\n",
              "      <td>0.237609</td>\n",
              "      <td>0.377436</td>\n",
              "      <td>-1.387024</td>\n",
              "      <td>-0.054952</td>\n",
              "      <td>-0.226487</td>\n",
              "      <td>0.178228</td>\n",
              "      <td>0.507757</td>\n",
              "      <td>-0.287924</td>\n",
              "      <td>-0.631418</td>\n",
              "      <td>-1.059647</td>\n",
              "      <td>-0.684093</td>\n",
              "      <td>1.965775</td>\n",
              "      <td>-1.232622</td>\n",
              "      <td>-0.208038</td>\n",
              "      <td>-0.108300</td>\n",
              "      <td>0.005274</td>\n",
              "      <td>-0.190321</td>\n",
              "      <td>-1.175575</td>\n",
              "      <td>0.647376</td>\n",
              "      <td>-0.221929</td>\n",
              "      <td>0.062723</td>\n",
              "      <td>0.061458</td>\n",
              "      <td>123.50</td>\n",
              "      <td>0</td>\n",
              "    </tr>\n",
              "    <tr>\n",
              "      <th>4</th>\n",
              "      <td>2.0</td>\n",
              "      <td>-1.158233</td>\n",
              "      <td>0.877737</td>\n",
              "      <td>1.548718</td>\n",
              "      <td>0.403034</td>\n",
              "      <td>-0.407193</td>\n",
              "      <td>0.095921</td>\n",
              "      <td>0.592941</td>\n",
              "      <td>-0.270533</td>\n",
              "      <td>0.817739</td>\n",
              "      <td>0.753074</td>\n",
              "      <td>-0.822843</td>\n",
              "      <td>0.538196</td>\n",
              "      <td>1.345852</td>\n",
              "      <td>-1.119670</td>\n",
              "      <td>0.175121</td>\n",
              "      <td>-0.451449</td>\n",
              "      <td>-0.237033</td>\n",
              "      <td>-0.038195</td>\n",
              "      <td>0.803487</td>\n",
              "      <td>0.408542</td>\n",
              "      <td>-0.009431</td>\n",
              "      <td>0.798278</td>\n",
              "      <td>-0.137458</td>\n",
              "      <td>0.141267</td>\n",
              "      <td>-0.206010</td>\n",
              "      <td>0.502292</td>\n",
              "      <td>0.219422</td>\n",
              "      <td>0.215153</td>\n",
              "      <td>69.99</td>\n",
              "      <td>0</td>\n",
              "    </tr>\n",
              "  </tbody>\n",
              "</table>\n",
              "</div>"
            ],
            "text/plain": [
              "   Time        V1        V2        V3  ...       V27       V28  Amount  Class\n",
              "0   0.0 -1.359807 -0.072781  2.536347  ...  0.133558 -0.021053  149.62      0\n",
              "1   0.0  1.191857  0.266151  0.166480  ... -0.008983  0.014724    2.69      0\n",
              "2   1.0 -1.358354 -1.340163  1.773209  ... -0.055353 -0.059752  378.66      0\n",
              "3   1.0 -0.966272 -0.185226  1.792993  ...  0.062723  0.061458  123.50      0\n",
              "4   2.0 -1.158233  0.877737  1.548718  ...  0.219422  0.215153   69.99      0\n",
              "\n",
              "[5 rows x 31 columns]"
            ]
          },
          "metadata": {
            "tags": []
          },
          "execution_count": 3
        }
      ]
    },
    {
      "cell_type": "markdown",
      "metadata": {
        "id": "q6d_VkhYK81i"
      },
      "source": [
        "    --> các biến trên không cho biết được nhiều thông tin về bộ data"
      ]
    },
    {
      "cell_type": "code",
      "metadata": {
        "colab": {
          "base_uri": "https://localhost:8080/",
          "height": 310
        },
        "id": "72ZAFN-nLIo2",
        "outputId": "49281d9f-96ca-4e62-f932-766aba2b542c"
      },
      "source": [
        "count_classes = pd.value_counts(df['Class'], sort=True).sort_index()\r\n",
        "count_classes.plot(kind='bar', color='green')\r\n",
        "plt.title('Thống kê số lượng')\r\n",
        "plt.xlabel('Feature: Class')\r\n",
        "plt.ylabel('Số lượng')"
      ],
      "execution_count": 4,
      "outputs": [
        {
          "output_type": "execute_result",
          "data": {
            "text/plain": [
              "Text(0, 0.5, 'Số lượng')"
            ]
          },
          "metadata": {
            "tags": []
          },
          "execution_count": 4
        },
        {
          "output_type": "display_data",
          "data": {
            "image/png": "[encoded data removed]",
            "text/plain": [
              "<Figure size 432x288 with 1 Axes>"
            ]
          },
          "metadata": {
            "tags": [],
            "needs_background": "light"
          }
        }
      ]
    },
    {
      "cell_type": "markdown",
      "metadata": {
        "id": "BUuu-j2nL_Re"
      },
      "source": [
        "    Dữ liệu mất cân bằng và số lượng giao dịch hợp pháp vượt xa số lượng giao dịch cân bằng.\r\n",
        "    Cần phân tích cẩn thận tuyệt đối do độ chính xác điểm chuẩn cao khi chỉ chọn mục tiêu thường xuyên xuát hiện.\r\n"
      ]
    },
    {
      "cell_type": "code",
      "metadata": {
        "colab": {
          "base_uri": "https://localhost:8080/",
          "height": 317
        },
        "id": "nZO1g3zpMlSz",
        "outputId": "8f950919-ec75-4156-b971-5cea65388864"
      },
      "source": [
        "df.describe()"
      ],
      "execution_count": 5,
      "outputs": [
        {
          "output_type": "execute_result",
          "data": {
            "text/html": [
              "<div>\n",
              "<style scoped>\n",
              "    .dataframe tbody tr th:only-of-type {\n",
              "        vertical-align: middle;\n",
              "    }\n",
              "\n",
              "    .dataframe tbody tr th {\n",
              "        vertical-align: top;\n",
              "    }\n",
              "\n",
              "    .dataframe thead th {\n",
              "        text-align: right;\n",
              "    }\n",
              "</style>\n",
              "<table border=\"1\" class=\"dataframe\">\n",
              "  <thead>\n",
              "    <tr style=\"text-align: right;\">\n",
              "      <th></th>\n",
              "      <th>Time</th>\n",
              "      <th>V1</th>\n",
              "      <th>V2</th>\n",
              "      <th>V3</th>\n",
              "      <th>V4</th>\n",
              "      <th>V5</th>\n",
              "      <th>V6</th>\n",
              "      <th>V7</th>\n",
              "      <th>V8</th>\n",
              "      <th>V9</th>\n",
              "      <th>V10</th>\n",
              "      <th>V11</th>\n",
              "      <th>V12</th>\n",
              "      <th>V13</th>\n",
              "      <th>V14</th>\n",
              "      <th>V15</th>\n",
              "      <th>V16</th>\n",
              "      <th>V17</th>\n",
              "      <th>V18</th>\n",
              "      <th>V19</th>\n",
              "      <th>V20</th>\n",
              "      <th>V21</th>\n",
              "      <th>V22</th>\n",
              "      <th>V23</th>\n",
              "      <th>V24</th>\n",
              "      <th>V25</th>\n",
              "      <th>V26</th>\n",
              "      <th>V27</th>\n",
              "      <th>V28</th>\n",
              "      <th>Amount</th>\n",
              "      <th>Class</th>\n",
              "    </tr>\n",
              "  </thead>\n",
              "  <tbody>\n",
              "    <tr>\n",
              "      <th>count</th>\n",
              "      <td>284807.000000</td>\n",
              "      <td>2.848070e+05</td>\n",
              "      <td>2.848070e+05</td>\n",
              "      <td>2.848070e+05</td>\n",
              "      <td>2.848070e+05</td>\n",
              "      <td>2.848070e+05</td>\n",
              "      <td>2.848070e+05</td>\n",
              "      <td>2.848070e+05</td>\n",
              "      <td>2.848070e+05</td>\n",
              "      <td>2.848070e+05</td>\n",
              "      <td>2.848070e+05</td>\n",
              "      <td>2.848070e+05</td>\n",
              "      <td>2.848070e+05</td>\n",
              "      <td>2.848070e+05</td>\n",
              "      <td>2.848070e+05</td>\n",
              "      <td>2.848070e+05</td>\n",
              "      <td>2.848070e+05</td>\n",
              "      <td>2.848070e+05</td>\n",
              "      <td>2.848070e+05</td>\n",
              "      <td>2.848070e+05</td>\n",
              "      <td>2.848070e+05</td>\n",
              "      <td>2.848070e+05</td>\n",
              "      <td>2.848070e+05</td>\n",
              "      <td>2.848070e+05</td>\n",
              "      <td>2.848070e+05</td>\n",
              "      <td>2.848070e+05</td>\n",
              "      <td>2.848070e+05</td>\n",
              "      <td>2.848070e+05</td>\n",
              "      <td>2.848070e+05</td>\n",
              "      <td>284807.000000</td>\n",
              "      <td>284807.000000</td>\n",
              "    </tr>\n",
              "    <tr>\n",
              "      <th>mean</th>\n",
              "      <td>94813.859575</td>\n",
              "      <td>3.919560e-15</td>\n",
              "      <td>5.688174e-16</td>\n",
              "      <td>-8.769071e-15</td>\n",
              "      <td>2.782312e-15</td>\n",
              "      <td>-1.552563e-15</td>\n",
              "      <td>2.010663e-15</td>\n",
              "      <td>-1.694249e-15</td>\n",
              "      <td>-1.927028e-16</td>\n",
              "      <td>-3.137024e-15</td>\n",
              "      <td>1.768627e-15</td>\n",
              "      <td>9.170318e-16</td>\n",
              "      <td>-1.810658e-15</td>\n",
              "      <td>1.693438e-15</td>\n",
              "      <td>1.479045e-15</td>\n",
              "      <td>3.482336e-15</td>\n",
              "      <td>1.392007e-15</td>\n",
              "      <td>-7.528491e-16</td>\n",
              "      <td>4.328772e-16</td>\n",
              "      <td>9.049732e-16</td>\n",
              "      <td>5.085503e-16</td>\n",
              "      <td>1.537294e-16</td>\n",
              "      <td>7.959909e-16</td>\n",
              "      <td>5.367590e-16</td>\n",
              "      <td>4.458112e-15</td>\n",
              "      <td>1.453003e-15</td>\n",
              "      <td>1.699104e-15</td>\n",
              "      <td>-3.660161e-16</td>\n",
              "      <td>-1.206049e-16</td>\n",
              "      <td>88.349619</td>\n",
              "      <td>0.001727</td>\n",
              "    </tr>\n",
              "    <tr>\n",
              "      <th>std</th>\n",
              "      <td>47488.145955</td>\n",
              "      <td>1.958696e+00</td>\n",
              "      <td>1.651309e+00</td>\n",
              "      <td>1.516255e+00</td>\n",
              "      <td>1.415869e+00</td>\n",
              "      <td>1.380247e+00</td>\n",
              "      <td>1.332271e+00</td>\n",
              "      <td>1.237094e+00</td>\n",
              "      <td>1.194353e+00</td>\n",
              "      <td>1.098632e+00</td>\n",
              "      <td>1.088850e+00</td>\n",
              "      <td>1.020713e+00</td>\n",
              "      <td>9.992014e-01</td>\n",
              "      <td>9.952742e-01</td>\n",
              "      <td>9.585956e-01</td>\n",
              "      <td>9.153160e-01</td>\n",
              "      <td>8.762529e-01</td>\n",
              "      <td>8.493371e-01</td>\n",
              "      <td>8.381762e-01</td>\n",
              "      <td>8.140405e-01</td>\n",
              "      <td>7.709250e-01</td>\n",
              "      <td>7.345240e-01</td>\n",
              "      <td>7.257016e-01</td>\n",
              "      <td>6.244603e-01</td>\n",
              "      <td>6.056471e-01</td>\n",
              "      <td>5.212781e-01</td>\n",
              "      <td>4.822270e-01</td>\n",
              "      <td>4.036325e-01</td>\n",
              "      <td>3.300833e-01</td>\n",
              "      <td>250.120109</td>\n",
              "      <td>0.041527</td>\n",
              "    </tr>\n",
              "    <tr>\n",
              "      <th>min</th>\n",
              "      <td>0.000000</td>\n",
              "      <td>-5.640751e+01</td>\n",
              "      <td>-7.271573e+01</td>\n",
              "      <td>-4.832559e+01</td>\n",
              "      <td>-5.683171e+00</td>\n",
              "      <td>-1.137433e+02</td>\n",
              "      <td>-2.616051e+01</td>\n",
              "      <td>-4.355724e+01</td>\n",
              "      <td>-7.321672e+01</td>\n",
              "      <td>-1.343407e+01</td>\n",
              "      <td>-2.458826e+01</td>\n",
              "      <td>-4.797473e+00</td>\n",
              "      <td>-1.868371e+01</td>\n",
              "      <td>-5.791881e+00</td>\n",
              "      <td>-1.921433e+01</td>\n",
              "      <td>-4.498945e+00</td>\n",
              "      <td>-1.412985e+01</td>\n",
              "      <td>-2.516280e+01</td>\n",
              "      <td>-9.498746e+00</td>\n",
              "      <td>-7.213527e+00</td>\n",
              "      <td>-5.449772e+01</td>\n",
              "      <td>-3.483038e+01</td>\n",
              "      <td>-1.093314e+01</td>\n",
              "      <td>-4.480774e+01</td>\n",
              "      <td>-2.836627e+00</td>\n",
              "      <td>-1.029540e+01</td>\n",
              "      <td>-2.604551e+00</td>\n",
              "      <td>-2.256568e+01</td>\n",
              "      <td>-1.543008e+01</td>\n",
              "      <td>0.000000</td>\n",
              "      <td>0.000000</td>\n",
              "    </tr>\n",
              "    <tr>\n",
              "      <th>25%</th>\n",
              "      <td>54201.500000</td>\n",
              "      <td>-9.203734e-01</td>\n",
              "      <td>-5.985499e-01</td>\n",
              "      <td>-8.903648e-01</td>\n",
              "      <td>-8.486401e-01</td>\n",
              "      <td>-6.915971e-01</td>\n",
              "      <td>-7.682956e-01</td>\n",
              "      <td>-5.540759e-01</td>\n",
              "      <td>-2.086297e-01</td>\n",
              "      <td>-6.430976e-01</td>\n",
              "      <td>-5.354257e-01</td>\n",
              "      <td>-7.624942e-01</td>\n",
              "      <td>-4.055715e-01</td>\n",
              "      <td>-6.485393e-01</td>\n",
              "      <td>-4.255740e-01</td>\n",
              "      <td>-5.828843e-01</td>\n",
              "      <td>-4.680368e-01</td>\n",
              "      <td>-4.837483e-01</td>\n",
              "      <td>-4.988498e-01</td>\n",
              "      <td>-4.562989e-01</td>\n",
              "      <td>-2.117214e-01</td>\n",
              "      <td>-2.283949e-01</td>\n",
              "      <td>-5.423504e-01</td>\n",
              "      <td>-1.618463e-01</td>\n",
              "      <td>-3.545861e-01</td>\n",
              "      <td>-3.171451e-01</td>\n",
              "      <td>-3.269839e-01</td>\n",
              "      <td>-7.083953e-02</td>\n",
              "      <td>-5.295979e-02</td>\n",
              "      <td>5.600000</td>\n",
              "      <td>0.000000</td>\n",
              "    </tr>\n",
              "    <tr>\n",
              "      <th>50%</th>\n",
              "      <td>84692.000000</td>\n",
              "      <td>1.810880e-02</td>\n",
              "      <td>6.548556e-02</td>\n",
              "      <td>1.798463e-01</td>\n",
              "      <td>-1.984653e-02</td>\n",
              "      <td>-5.433583e-02</td>\n",
              "      <td>-2.741871e-01</td>\n",
              "      <td>4.010308e-02</td>\n",
              "      <td>2.235804e-02</td>\n",
              "      <td>-5.142873e-02</td>\n",
              "      <td>-9.291738e-02</td>\n",
              "      <td>-3.275735e-02</td>\n",
              "      <td>1.400326e-01</td>\n",
              "      <td>-1.356806e-02</td>\n",
              "      <td>5.060132e-02</td>\n",
              "      <td>4.807155e-02</td>\n",
              "      <td>6.641332e-02</td>\n",
              "      <td>-6.567575e-02</td>\n",
              "      <td>-3.636312e-03</td>\n",
              "      <td>3.734823e-03</td>\n",
              "      <td>-6.248109e-02</td>\n",
              "      <td>-2.945017e-02</td>\n",
              "      <td>6.781943e-03</td>\n",
              "      <td>-1.119293e-02</td>\n",
              "      <td>4.097606e-02</td>\n",
              "      <td>1.659350e-02</td>\n",
              "      <td>-5.213911e-02</td>\n",
              "      <td>1.342146e-03</td>\n",
              "      <td>1.124383e-02</td>\n",
              "      <td>22.000000</td>\n",
              "      <td>0.000000</td>\n",
              "    </tr>\n",
              "    <tr>\n",
              "      <th>75%</th>\n",
              "      <td>139320.500000</td>\n",
              "      <td>1.315642e+00</td>\n",
              "      <td>8.037239e-01</td>\n",
              "      <td>1.027196e+00</td>\n",
              "      <td>7.433413e-01</td>\n",
              "      <td>6.119264e-01</td>\n",
              "      <td>3.985649e-01</td>\n",
              "      <td>5.704361e-01</td>\n",
              "      <td>3.273459e-01</td>\n",
              "      <td>5.971390e-01</td>\n",
              "      <td>4.539234e-01</td>\n",
              "      <td>7.395934e-01</td>\n",
              "      <td>6.182380e-01</td>\n",
              "      <td>6.625050e-01</td>\n",
              "      <td>4.931498e-01</td>\n",
              "      <td>6.488208e-01</td>\n",
              "      <td>5.232963e-01</td>\n",
              "      <td>3.996750e-01</td>\n",
              "      <td>5.008067e-01</td>\n",
              "      <td>4.589494e-01</td>\n",
              "      <td>1.330408e-01</td>\n",
              "      <td>1.863772e-01</td>\n",
              "      <td>5.285536e-01</td>\n",
              "      <td>1.476421e-01</td>\n",
              "      <td>4.395266e-01</td>\n",
              "      <td>3.507156e-01</td>\n",
              "      <td>2.409522e-01</td>\n",
              "      <td>9.104512e-02</td>\n",
              "      <td>7.827995e-02</td>\n",
              "      <td>77.165000</td>\n",
              "      <td>0.000000</td>\n",
              "    </tr>\n",
              "    <tr>\n",
              "      <th>max</th>\n",
              "      <td>172792.000000</td>\n",
              "      <td>2.454930e+00</td>\n",
              "      <td>2.205773e+01</td>\n",
              "      <td>9.382558e+00</td>\n",
              "      <td>1.687534e+01</td>\n",
              "      <td>3.480167e+01</td>\n",
              "      <td>7.330163e+01</td>\n",
              "      <td>1.205895e+02</td>\n",
              "      <td>2.000721e+01</td>\n",
              "      <td>1.559499e+01</td>\n",
              "      <td>2.374514e+01</td>\n",
              "      <td>1.201891e+01</td>\n",
              "      <td>7.848392e+00</td>\n",
              "      <td>7.126883e+00</td>\n",
              "      <td>1.052677e+01</td>\n",
              "      <td>8.877742e+00</td>\n",
              "      <td>1.731511e+01</td>\n",
              "      <td>9.253526e+00</td>\n",
              "      <td>5.041069e+00</td>\n",
              "      <td>5.591971e+00</td>\n",
              "      <td>3.942090e+01</td>\n",
              "      <td>2.720284e+01</td>\n",
              "      <td>1.050309e+01</td>\n",
              "      <td>2.252841e+01</td>\n",
              "      <td>4.584549e+00</td>\n",
              "      <td>7.519589e+00</td>\n",
              "      <td>3.517346e+00</td>\n",
              "      <td>3.161220e+01</td>\n",
              "      <td>3.384781e+01</td>\n",
              "      <td>25691.160000</td>\n",
              "      <td>1.000000</td>\n",
              "    </tr>\n",
              "  </tbody>\n",
              "</table>\n",
              "</div>"
            ],
            "text/plain": [
              "                Time            V1  ...         Amount          Class\n",
              "count  284807.000000  2.848070e+05  ...  284807.000000  284807.000000\n",
              "mean    94813.859575  3.919560e-15  ...      88.349619       0.001727\n",
              "std     47488.145955  1.958696e+00  ...     250.120109       0.041527\n",
              "min         0.000000 -5.640751e+01  ...       0.000000       0.000000\n",
              "25%     54201.500000 -9.203734e-01  ...       5.600000       0.000000\n",
              "50%     84692.000000  1.810880e-02  ...      22.000000       0.000000\n",
              "75%    139320.500000  1.315642e+00  ...      77.165000       0.000000\n",
              "max    172792.000000  2.454930e+00  ...   25691.160000       1.000000\n",
              "\n",
              "[8 rows x 31 columns]"
            ]
          },
          "metadata": {
            "tags": []
          },
          "execution_count": 5
        }
      ]
    },
    {
      "cell_type": "markdown",
      "metadata": {
        "id": "WsOwtw4xOq10"
      },
      "source": [
        "    chuẩn hóa các biến, sắp xếp lại chúng từ v1->v28->amount->time->class"
      ]
    },
    {
      "cell_type": "code",
      "metadata": {
        "id": "O03h932DNMp0"
      },
      "source": [
        "from sklearn.preprocessing import StandardScaler\r\n",
        "\r\n",
        "time = df['Time']\r\n",
        "classes = df['Class']\r\n",
        "df.pop('Time')\r\n",
        "df.pop('Class')\r\n",
        "listed = list(df)\r\n",
        "data = StandardScaler().fit_transform(df)"
      ],
      "execution_count": 6,
      "outputs": []
    },
    {
      "cell_type": "code",
      "metadata": {
        "colab": {
          "base_uri": "https://localhost:8080/"
        },
        "id": "UeGVjv6WOf4M",
        "outputId": "e8d8673e-4ed5-4190-9523-5410378ad676"
      },
      "source": [
        "listed"
      ],
      "execution_count": 7,
      "outputs": [
        {
          "output_type": "execute_result",
          "data": {
            "text/plain": [
              "['V1',\n",
              " 'V2',\n",
              " 'V3',\n",
              " 'V4',\n",
              " 'V5',\n",
              " 'V6',\n",
              " 'V7',\n",
              " 'V8',\n",
              " 'V9',\n",
              " 'V10',\n",
              " 'V11',\n",
              " 'V12',\n",
              " 'V13',\n",
              " 'V14',\n",
              " 'V15',\n",
              " 'V16',\n",
              " 'V17',\n",
              " 'V18',\n",
              " 'V19',\n",
              " 'V20',\n",
              " 'V21',\n",
              " 'V22',\n",
              " 'V23',\n",
              " 'V24',\n",
              " 'V25',\n",
              " 'V26',\n",
              " 'V27',\n",
              " 'V28',\n",
              " 'Amount']"
            ]
          },
          "metadata": {
            "tags": []
          },
          "execution_count": 7
        }
      ]
    },
    {
      "cell_type": "code",
      "metadata": {
        "id": "0PkhDsB0OoWX"
      },
      "source": [
        "df = pd.DataFrame(data)\r\n",
        "df.columns = listed\r\n",
        "df['Time'] = time\r\n",
        "df['Class'] = classes"
      ],
      "execution_count": 8,
      "outputs": []
    },
    {
      "cell_type": "code",
      "metadata": {
        "colab": {
          "base_uri": "https://localhost:8080/",
          "height": 224
        },
        "id": "83paqulfO5N6",
        "outputId": "5307d049-b2a8-4d19-ed36-baffc72c072c"
      },
      "source": [
        "df.head()"
      ],
      "execution_count": 9,
      "outputs": [
        {
          "output_type": "execute_result",
          "data": {
            "text/html": [
              "<div>\n",
              "<style scoped>\n",
              "    .dataframe tbody tr th:only-of-type {\n",
              "        vertical-align: middle;\n",
              "    }\n",
              "\n",
              "    .dataframe tbody tr th {\n",
              "        vertical-align: top;\n",
              "    }\n",
              "\n",
              "    .dataframe thead th {\n",
              "        text-align: right;\n",
              "    }\n",
              "</style>\n",
              "<table border=\"1\" class=\"dataframe\">\n",
              "  <thead>\n",
              "    <tr style=\"text-align: right;\">\n",
              "      <th></th>\n",
              "      <th>V1</th>\n",
              "      <th>V2</th>\n",
              "      <th>V3</th>\n",
              "      <th>V4</th>\n",
              "      <th>V5</th>\n",
              "      <th>V6</th>\n",
              "      <th>V7</th>\n",
              "      <th>V8</th>\n",
              "      <th>V9</th>\n",
              "      <th>V10</th>\n",
              "      <th>V11</th>\n",
              "      <th>V12</th>\n",
              "      <th>V13</th>\n",
              "      <th>V14</th>\n",
              "      <th>V15</th>\n",
              "      <th>V16</th>\n",
              "      <th>V17</th>\n",
              "      <th>V18</th>\n",
              "      <th>V19</th>\n",
              "      <th>V20</th>\n",
              "      <th>V21</th>\n",
              "      <th>V22</th>\n",
              "      <th>V23</th>\n",
              "      <th>V24</th>\n",
              "      <th>V25</th>\n",
              "      <th>V26</th>\n",
              "      <th>V27</th>\n",
              "      <th>V28</th>\n",
              "      <th>Amount</th>\n",
              "      <th>Time</th>\n",
              "      <th>Class</th>\n",
              "    </tr>\n",
              "  </thead>\n",
              "  <tbody>\n",
              "    <tr>\n",
              "      <th>0</th>\n",
              "      <td>-0.694242</td>\n",
              "      <td>-0.044075</td>\n",
              "      <td>1.672773</td>\n",
              "      <td>0.973366</td>\n",
              "      <td>-0.245117</td>\n",
              "      <td>0.347068</td>\n",
              "      <td>0.193679</td>\n",
              "      <td>0.082637</td>\n",
              "      <td>0.331128</td>\n",
              "      <td>0.083386</td>\n",
              "      <td>-0.540407</td>\n",
              "      <td>-0.618296</td>\n",
              "      <td>-0.996099</td>\n",
              "      <td>-0.324610</td>\n",
              "      <td>1.604014</td>\n",
              "      <td>-0.536833</td>\n",
              "      <td>0.244863</td>\n",
              "      <td>0.030770</td>\n",
              "      <td>0.496282</td>\n",
              "      <td>0.326118</td>\n",
              "      <td>-0.024923</td>\n",
              "      <td>0.382854</td>\n",
              "      <td>-0.176911</td>\n",
              "      <td>0.110507</td>\n",
              "      <td>0.246585</td>\n",
              "      <td>-0.392170</td>\n",
              "      <td>0.330892</td>\n",
              "      <td>-0.063781</td>\n",
              "      <td>0.244964</td>\n",
              "      <td>0.0</td>\n",
              "      <td>0</td>\n",
              "    </tr>\n",
              "    <tr>\n",
              "      <th>1</th>\n",
              "      <td>0.608496</td>\n",
              "      <td>0.161176</td>\n",
              "      <td>0.109797</td>\n",
              "      <td>0.316523</td>\n",
              "      <td>0.043483</td>\n",
              "      <td>-0.061820</td>\n",
              "      <td>-0.063700</td>\n",
              "      <td>0.071253</td>\n",
              "      <td>-0.232494</td>\n",
              "      <td>-0.153350</td>\n",
              "      <td>1.580003</td>\n",
              "      <td>1.066089</td>\n",
              "      <td>0.491418</td>\n",
              "      <td>-0.149982</td>\n",
              "      <td>0.694360</td>\n",
              "      <td>0.529434</td>\n",
              "      <td>-0.135170</td>\n",
              "      <td>-0.218763</td>\n",
              "      <td>-0.179086</td>\n",
              "      <td>-0.089611</td>\n",
              "      <td>-0.307377</td>\n",
              "      <td>-0.880077</td>\n",
              "      <td>0.162201</td>\n",
              "      <td>-0.561131</td>\n",
              "      <td>0.320694</td>\n",
              "      <td>0.261069</td>\n",
              "      <td>-0.022256</td>\n",
              "      <td>0.044608</td>\n",
              "      <td>-0.342475</td>\n",
              "      <td>0.0</td>\n",
              "      <td>0</td>\n",
              "    </tr>\n",
              "    <tr>\n",
              "      <th>2</th>\n",
              "      <td>-0.693500</td>\n",
              "      <td>-0.811578</td>\n",
              "      <td>1.169468</td>\n",
              "      <td>0.268231</td>\n",
              "      <td>-0.364572</td>\n",
              "      <td>1.351454</td>\n",
              "      <td>0.639776</td>\n",
              "      <td>0.207373</td>\n",
              "      <td>-1.378675</td>\n",
              "      <td>0.190700</td>\n",
              "      <td>0.611830</td>\n",
              "      <td>0.066137</td>\n",
              "      <td>0.720700</td>\n",
              "      <td>-0.173114</td>\n",
              "      <td>2.562906</td>\n",
              "      <td>-3.298235</td>\n",
              "      <td>1.306868</td>\n",
              "      <td>-0.144790</td>\n",
              "      <td>-2.778561</td>\n",
              "      <td>0.680975</td>\n",
              "      <td>0.337632</td>\n",
              "      <td>1.063358</td>\n",
              "      <td>1.456320</td>\n",
              "      <td>-1.138092</td>\n",
              "      <td>-0.628537</td>\n",
              "      <td>-0.288447</td>\n",
              "      <td>-0.137137</td>\n",
              "      <td>-0.181021</td>\n",
              "      <td>1.160686</td>\n",
              "      <td>1.0</td>\n",
              "      <td>0</td>\n",
              "    </tr>\n",
              "    <tr>\n",
              "      <th>3</th>\n",
              "      <td>-0.493325</td>\n",
              "      <td>-0.112169</td>\n",
              "      <td>1.182516</td>\n",
              "      <td>-0.609727</td>\n",
              "      <td>-0.007469</td>\n",
              "      <td>0.936150</td>\n",
              "      <td>0.192071</td>\n",
              "      <td>0.316018</td>\n",
              "      <td>-1.262503</td>\n",
              "      <td>-0.050468</td>\n",
              "      <td>-0.221892</td>\n",
              "      <td>0.178371</td>\n",
              "      <td>0.510169</td>\n",
              "      <td>-0.300360</td>\n",
              "      <td>-0.689837</td>\n",
              "      <td>-1.209296</td>\n",
              "      <td>-0.805445</td>\n",
              "      <td>2.345305</td>\n",
              "      <td>-1.514205</td>\n",
              "      <td>-0.269855</td>\n",
              "      <td>-0.147443</td>\n",
              "      <td>0.007267</td>\n",
              "      <td>-0.304777</td>\n",
              "      <td>-1.941027</td>\n",
              "      <td>1.241904</td>\n",
              "      <td>-0.460217</td>\n",
              "      <td>0.155396</td>\n",
              "      <td>0.186189</td>\n",
              "      <td>0.140534</td>\n",
              "      <td>1.0</td>\n",
              "      <td>0</td>\n",
              "    </tr>\n",
              "    <tr>\n",
              "      <th>4</th>\n",
              "      <td>-0.591330</td>\n",
              "      <td>0.531541</td>\n",
              "      <td>1.021412</td>\n",
              "      <td>0.284655</td>\n",
              "      <td>-0.295015</td>\n",
              "      <td>0.071999</td>\n",
              "      <td>0.479302</td>\n",
              "      <td>-0.226510</td>\n",
              "      <td>0.744326</td>\n",
              "      <td>0.691625</td>\n",
              "      <td>-0.806147</td>\n",
              "      <td>0.538627</td>\n",
              "      <td>1.352244</td>\n",
              "      <td>-1.168034</td>\n",
              "      <td>0.191323</td>\n",
              "      <td>-0.515205</td>\n",
              "      <td>-0.279081</td>\n",
              "      <td>-0.045569</td>\n",
              "      <td>0.987037</td>\n",
              "      <td>0.529939</td>\n",
              "      <td>-0.012839</td>\n",
              "      <td>1.100011</td>\n",
              "      <td>-0.220123</td>\n",
              "      <td>0.233250</td>\n",
              "      <td>-0.395202</td>\n",
              "      <td>1.041611</td>\n",
              "      <td>0.543620</td>\n",
              "      <td>0.651816</td>\n",
              "      <td>-0.073403</td>\n",
              "      <td>2.0</td>\n",
              "      <td>0</td>\n",
              "    </tr>\n",
              "  </tbody>\n",
              "</table>\n",
              "</div>"
            ],
            "text/plain": [
              "         V1        V2        V3        V4  ...       V28    Amount  Time  Class\n",
              "0 -0.694242 -0.044075  1.672773  0.973366  ... -0.063781  0.244964   0.0      0\n",
              "1  0.608496  0.161176  0.109797  0.316523  ...  0.044608 -0.342475   0.0      0\n",
              "2 -0.693500 -0.811578  1.169468  0.268231  ... -0.181021  1.160686   1.0      0\n",
              "3 -0.493325 -0.112169  1.182516 -0.609727  ...  0.186189  0.140534   1.0      0\n",
              "4 -0.591330  0.531541  1.021412  0.284655  ...  0.651816 -0.073403   2.0      0\n",
              "\n",
              "[5 rows x 31 columns]"
            ]
          },
          "metadata": {
            "tags": []
          },
          "execution_count": 9
        }
      ]
    },
    {
      "cell_type": "code",
      "metadata": {
        "colab": {
          "base_uri": "https://localhost:8080/",
          "height": 385
        },
        "id": "ynTdA9U4PIGR",
        "outputId": "62eb5560-dd34-4c80-a9d0-fcd75e6f2ce1"
      },
      "source": [
        "df.describe()"
      ],
      "execution_count": 10,
      "outputs": [
        {
          "output_type": "execute_result",
          "data": {
            "text/html": [
              "<div>\n",
              "<style scoped>\n",
              "    .dataframe tbody tr th:only-of-type {\n",
              "        vertical-align: middle;\n",
              "    }\n",
              "\n",
              "    .dataframe tbody tr th {\n",
              "        vertical-align: top;\n",
              "    }\n",
              "\n",
              "    .dataframe thead th {\n",
              "        text-align: right;\n",
              "    }\n",
              "</style>\n",
              "<table border=\"1\" class=\"dataframe\">\n",
              "  <thead>\n",
              "    <tr style=\"text-align: right;\">\n",
              "      <th></th>\n",
              "      <th>V1</th>\n",
              "      <th>V2</th>\n",
              "      <th>V3</th>\n",
              "      <th>V4</th>\n",
              "      <th>V5</th>\n",
              "      <th>V6</th>\n",
              "      <th>V7</th>\n",
              "      <th>V8</th>\n",
              "      <th>V9</th>\n",
              "      <th>V10</th>\n",
              "      <th>V11</th>\n",
              "      <th>V12</th>\n",
              "      <th>V13</th>\n",
              "      <th>V14</th>\n",
              "      <th>V15</th>\n",
              "      <th>V16</th>\n",
              "      <th>V17</th>\n",
              "      <th>V18</th>\n",
              "      <th>V19</th>\n",
              "      <th>V20</th>\n",
              "      <th>V21</th>\n",
              "      <th>V22</th>\n",
              "      <th>V23</th>\n",
              "      <th>V24</th>\n",
              "      <th>V25</th>\n",
              "      <th>V26</th>\n",
              "      <th>V27</th>\n",
              "      <th>V28</th>\n",
              "      <th>Amount</th>\n",
              "      <th>Time</th>\n",
              "      <th>Class</th>\n",
              "    </tr>\n",
              "  </thead>\n",
              "  <tbody>\n",
              "    <tr>\n",
              "      <th>count</th>\n",
              "      <td>2.848070e+05</td>\n",
              "      <td>2.848070e+05</td>\n",
              "      <td>2.848070e+05</td>\n",
              "      <td>2.848070e+05</td>\n",
              "      <td>2.848070e+05</td>\n",
              "      <td>2.848070e+05</td>\n",
              "      <td>2.848070e+05</td>\n",
              "      <td>2.848070e+05</td>\n",
              "      <td>2.848070e+05</td>\n",
              "      <td>2.848070e+05</td>\n",
              "      <td>2.848070e+05</td>\n",
              "      <td>2.848070e+05</td>\n",
              "      <td>2.848070e+05</td>\n",
              "      <td>2.848070e+05</td>\n",
              "      <td>2.848070e+05</td>\n",
              "      <td>2.848070e+05</td>\n",
              "      <td>2.848070e+05</td>\n",
              "      <td>2.848070e+05</td>\n",
              "      <td>2.848070e+05</td>\n",
              "      <td>2.848070e+05</td>\n",
              "      <td>2.848070e+05</td>\n",
              "      <td>2.848070e+05</td>\n",
              "      <td>2.848070e+05</td>\n",
              "      <td>2.848070e+05</td>\n",
              "      <td>2.848070e+05</td>\n",
              "      <td>2.848070e+05</td>\n",
              "      <td>2.848070e+05</td>\n",
              "      <td>2.848070e+05</td>\n",
              "      <td>2.848070e+05</td>\n",
              "      <td>284807.000000</td>\n",
              "      <td>284807.000000</td>\n",
              "    </tr>\n",
              "    <tr>\n",
              "      <th>mean</th>\n",
              "      <td>-8.157366e-16</td>\n",
              "      <td>3.154853e-17</td>\n",
              "      <td>-4.409878e-15</td>\n",
              "      <td>-6.734811e-16</td>\n",
              "      <td>-2.874435e-16</td>\n",
              "      <td>4.168992e-16</td>\n",
              "      <td>-8.767997e-16</td>\n",
              "      <td>-2.423604e-16</td>\n",
              "      <td>3.078727e-16</td>\n",
              "      <td>2.026926e-17</td>\n",
              "      <td>1.622758e-15</td>\n",
              "      <td>2.052953e-15</td>\n",
              "      <td>-8.310622e-17</td>\n",
              "      <td>-8.845502e-16</td>\n",
              "      <td>-1.789241e-15</td>\n",
              "      <td>-1.542079e-16</td>\n",
              "      <td>8.046919e-16</td>\n",
              "      <td>-2.547965e-16</td>\n",
              "      <td>-4.550555e-16</td>\n",
              "      <td>2.754870e-16</td>\n",
              "      <td>1.685077e-17</td>\n",
              "      <td>1.478472e-15</td>\n",
              "      <td>-6.797197e-16</td>\n",
              "      <td>1.234659e-16</td>\n",
              "      <td>-7.659279e-16</td>\n",
              "      <td>3.247603e-16</td>\n",
              "      <td>-2.953495e-18</td>\n",
              "      <td>5.401572e-17</td>\n",
              "      <td>3.202236e-16</td>\n",
              "      <td>94813.859575</td>\n",
              "      <td>0.001727</td>\n",
              "    </tr>\n",
              "    <tr>\n",
              "      <th>std</th>\n",
              "      <td>1.000002e+00</td>\n",
              "      <td>1.000002e+00</td>\n",
              "      <td>1.000002e+00</td>\n",
              "      <td>1.000002e+00</td>\n",
              "      <td>1.000002e+00</td>\n",
              "      <td>1.000002e+00</td>\n",
              "      <td>1.000002e+00</td>\n",
              "      <td>1.000002e+00</td>\n",
              "      <td>1.000002e+00</td>\n",
              "      <td>1.000002e+00</td>\n",
              "      <td>1.000002e+00</td>\n",
              "      <td>1.000002e+00</td>\n",
              "      <td>1.000002e+00</td>\n",
              "      <td>1.000002e+00</td>\n",
              "      <td>1.000002e+00</td>\n",
              "      <td>1.000002e+00</td>\n",
              "      <td>1.000002e+00</td>\n",
              "      <td>1.000002e+00</td>\n",
              "      <td>1.000002e+00</td>\n",
              "      <td>1.000002e+00</td>\n",
              "      <td>1.000002e+00</td>\n",
              "      <td>1.000002e+00</td>\n",
              "      <td>1.000002e+00</td>\n",
              "      <td>1.000002e+00</td>\n",
              "      <td>1.000002e+00</td>\n",
              "      <td>1.000002e+00</td>\n",
              "      <td>1.000002e+00</td>\n",
              "      <td>1.000002e+00</td>\n",
              "      <td>1.000002e+00</td>\n",
              "      <td>47488.145955</td>\n",
              "      <td>0.041527</td>\n",
              "    </tr>\n",
              "    <tr>\n",
              "      <th>min</th>\n",
              "      <td>-2.879855e+01</td>\n",
              "      <td>-4.403529e+01</td>\n",
              "      <td>-3.187173e+01</td>\n",
              "      <td>-4.013919e+00</td>\n",
              "      <td>-8.240810e+01</td>\n",
              "      <td>-1.963606e+01</td>\n",
              "      <td>-3.520940e+01</td>\n",
              "      <td>-6.130252e+01</td>\n",
              "      <td>-1.222802e+01</td>\n",
              "      <td>-2.258191e+01</td>\n",
              "      <td>-4.700128e+00</td>\n",
              "      <td>-1.869868e+01</td>\n",
              "      <td>-5.819392e+00</td>\n",
              "      <td>-2.004428e+01</td>\n",
              "      <td>-4.915191e+00</td>\n",
              "      <td>-1.612534e+01</td>\n",
              "      <td>-2.962645e+01</td>\n",
              "      <td>-1.133266e+01</td>\n",
              "      <td>-8.861402e+00</td>\n",
              "      <td>-7.069146e+01</td>\n",
              "      <td>-4.741907e+01</td>\n",
              "      <td>-1.506565e+01</td>\n",
              "      <td>-7.175446e+01</td>\n",
              "      <td>-4.683638e+00</td>\n",
              "      <td>-1.975033e+01</td>\n",
              "      <td>-5.401098e+00</td>\n",
              "      <td>-5.590660e+01</td>\n",
              "      <td>-4.674612e+01</td>\n",
              "      <td>-3.532294e-01</td>\n",
              "      <td>0.000000</td>\n",
              "      <td>0.000000</td>\n",
              "    </tr>\n",
              "    <tr>\n",
              "      <th>25%</th>\n",
              "      <td>-4.698918e-01</td>\n",
              "      <td>-3.624707e-01</td>\n",
              "      <td>-5.872142e-01</td>\n",
              "      <td>-5.993788e-01</td>\n",
              "      <td>-5.010686e-01</td>\n",
              "      <td>-5.766822e-01</td>\n",
              "      <td>-4.478860e-01</td>\n",
              "      <td>-1.746805e-01</td>\n",
              "      <td>-5.853631e-01</td>\n",
              "      <td>-4.917360e-01</td>\n",
              "      <td>-7.470224e-01</td>\n",
              "      <td>-4.058964e-01</td>\n",
              "      <td>-6.516198e-01</td>\n",
              "      <td>-4.439565e-01</td>\n",
              "      <td>-6.368132e-01</td>\n",
              "      <td>-5.341353e-01</td>\n",
              "      <td>-5.695609e-01</td>\n",
              "      <td>-5.951621e-01</td>\n",
              "      <td>-5.605369e-01</td>\n",
              "      <td>-2.746334e-01</td>\n",
              "      <td>-3.109433e-01</td>\n",
              "      <td>-7.473476e-01</td>\n",
              "      <td>-2.591784e-01</td>\n",
              "      <td>-5.854676e-01</td>\n",
              "      <td>-6.084001e-01</td>\n",
              "      <td>-6.780717e-01</td>\n",
              "      <td>-1.755053e-01</td>\n",
              "      <td>-1.604440e-01</td>\n",
              "      <td>-3.308401e-01</td>\n",
              "      <td>54201.500000</td>\n",
              "      <td>0.000000</td>\n",
              "    </tr>\n",
              "    <tr>\n",
              "      <th>50%</th>\n",
              "      <td>9.245351e-03</td>\n",
              "      <td>3.965683e-02</td>\n",
              "      <td>1.186124e-01</td>\n",
              "      <td>-1.401724e-02</td>\n",
              "      <td>-3.936682e-02</td>\n",
              "      <td>-2.058046e-01</td>\n",
              "      <td>3.241723e-02</td>\n",
              "      <td>1.871982e-02</td>\n",
              "      <td>-4.681169e-02</td>\n",
              "      <td>-8.533551e-02</td>\n",
              "      <td>-3.209268e-02</td>\n",
              "      <td>1.401448e-01</td>\n",
              "      <td>-1.363250e-02</td>\n",
              "      <td>5.278702e-02</td>\n",
              "      <td>5.251917e-02</td>\n",
              "      <td>7.579255e-02</td>\n",
              "      <td>-7.732604e-02</td>\n",
              "      <td>-4.338370e-03</td>\n",
              "      <td>4.588014e-03</td>\n",
              "      <td>-8.104705e-02</td>\n",
              "      <td>-4.009429e-02</td>\n",
              "      <td>9.345377e-03</td>\n",
              "      <td>-1.792420e-02</td>\n",
              "      <td>6.765678e-02</td>\n",
              "      <td>3.183240e-02</td>\n",
              "      <td>-1.081217e-01</td>\n",
              "      <td>3.325174e-03</td>\n",
              "      <td>3.406368e-02</td>\n",
              "      <td>-2.652715e-01</td>\n",
              "      <td>84692.000000</td>\n",
              "      <td>0.000000</td>\n",
              "    </tr>\n",
              "    <tr>\n",
              "      <th>75%</th>\n",
              "      <td>6.716939e-01</td>\n",
              "      <td>4.867202e-01</td>\n",
              "      <td>6.774569e-01</td>\n",
              "      <td>5.250082e-01</td>\n",
              "      <td>4.433465e-01</td>\n",
              "      <td>2.991625e-01</td>\n",
              "      <td>4.611107e-01</td>\n",
              "      <td>2.740785e-01</td>\n",
              "      <td>5.435305e-01</td>\n",
              "      <td>4.168842e-01</td>\n",
              "      <td>7.245863e-01</td>\n",
              "      <td>6.187332e-01</td>\n",
              "      <td>6.656518e-01</td>\n",
              "      <td>5.144513e-01</td>\n",
              "      <td>7.088502e-01</td>\n",
              "      <td>5.971989e-01</td>\n",
              "      <td>4.705737e-01</td>\n",
              "      <td>5.974968e-01</td>\n",
              "      <td>5.637928e-01</td>\n",
              "      <td>1.725733e-01</td>\n",
              "      <td>2.537392e-01</td>\n",
              "      <td>7.283360e-01</td>\n",
              "      <td>2.364319e-01</td>\n",
              "      <td>7.257153e-01</td>\n",
              "      <td>6.728006e-01</td>\n",
              "      <td>4.996663e-01</td>\n",
              "      <td>2.255648e-01</td>\n",
              "      <td>2.371526e-01</td>\n",
              "      <td>-4.471707e-02</td>\n",
              "      <td>139320.500000</td>\n",
              "      <td>0.000000</td>\n",
              "    </tr>\n",
              "    <tr>\n",
              "      <th>max</th>\n",
              "      <td>1.253351e+00</td>\n",
              "      <td>1.335775e+01</td>\n",
              "      <td>6.187993e+00</td>\n",
              "      <td>1.191874e+01</td>\n",
              "      <td>2.521413e+01</td>\n",
              "      <td>5.502015e+01</td>\n",
              "      <td>9.747824e+01</td>\n",
              "      <td>1.675153e+01</td>\n",
              "      <td>1.419494e+01</td>\n",
              "      <td>2.180758e+01</td>\n",
              "      <td>1.177504e+01</td>\n",
              "      <td>7.854679e+00</td>\n",
              "      <td>7.160735e+00</td>\n",
              "      <td>1.098147e+01</td>\n",
              "      <td>9.699117e+00</td>\n",
              "      <td>1.976044e+01</td>\n",
              "      <td>1.089502e+01</td>\n",
              "      <td>6.014342e+00</td>\n",
              "      <td>6.869414e+00</td>\n",
              "      <td>5.113464e+01</td>\n",
              "      <td>3.703471e+01</td>\n",
              "      <td>1.447304e+01</td>\n",
              "      <td>3.607668e+01</td>\n",
              "      <td>7.569684e+00</td>\n",
              "      <td>1.442532e+01</td>\n",
              "      <td>7.293975e+00</td>\n",
              "      <td>7.831940e+01</td>\n",
              "      <td>1.025434e+02</td>\n",
              "      <td>1.023622e+02</td>\n",
              "      <td>172792.000000</td>\n",
              "      <td>1.000000</td>\n",
              "    </tr>\n",
              "  </tbody>\n",
              "</table>\n",
              "</div>"
            ],
            "text/plain": [
              "                 V1            V2  ...           Time          Class\n",
              "count  2.848070e+05  2.848070e+05  ...  284807.000000  284807.000000\n",
              "mean  -8.157366e-16  3.154853e-17  ...   94813.859575       0.001727\n",
              "std    1.000002e+00  1.000002e+00  ...   47488.145955       0.041527\n",
              "min   -2.879855e+01 -4.403529e+01  ...       0.000000       0.000000\n",
              "25%   -4.698918e-01 -3.624707e-01  ...   54201.500000       0.000000\n",
              "50%    9.245351e-03  3.965683e-02  ...   84692.000000       0.000000\n",
              "75%    6.716939e-01  4.867202e-01  ...  139320.500000       0.000000\n",
              "max    1.253351e+00  1.335775e+01  ...  172792.000000       1.000000\n",
              "\n",
              "[8 rows x 31 columns]"
            ]
          },
          "metadata": {
            "tags": []
          },
          "execution_count": 10
        }
      ]
    },
    {
      "cell_type": "markdown",
      "metadata": {
        "id": "1tHsta9F5f5W"
      },
      "source": [
        "    Tính độ lệch của dữ liệu để biết có nhiều trọng số hay không\r\n",
        "    Skew lại dữ liệu."
      ]
    },
    {
      "cell_type": "code",
      "metadata": {
        "id": "k41TPYAI5fiA"
      },
      "source": [
        "data = df\r\n",
        "X = data.iloc[:, data.columns != 'Class']\r\n",
        "y = data.iloc[:, data.columns == 'Class']"
      ],
      "execution_count": 11,
      "outputs": []
    },
    {
      "cell_type": "code",
      "metadata": {
        "id": "UbykIVwk6zce"
      },
      "source": [
        "# số lượng dữ liệu trong lớp thiểu số\r\n",
        "number_records_fraud = len(data[data.Class == 1])\r\n",
        "fraud_indices = np.array(data[data.Class == 1].index)\r\n",
        "\r\n",
        "# chọn các chỉ số của các lớp bình thường\r\n",
        "normal_indices = data[data.Class == 0].index\r\n",
        "\r\n",
        "# lấy ngẫu nhiên từ các chỉ số ở trên\r\n",
        "random_normal_indices = np.random.choice(normal_indices, number_records_fraud, replace=False)\r\n",
        "random_normal_indices = np.array(random_normal_indices)\r\n",
        "\r\n",
        "# thêm 2 chỉ số\r\n",
        "under_sample_indices = np.concatenate([fraud_indices, random_normal_indices])\r\n",
        "\r\n",
        "# bộ dữ liệu mới dựa trên nguyên mẫu\r\n",
        "under_sample_data = data.iloc[under_sample_indices, :]\r\n",
        "\r\n",
        "X_undersample = under_sample_data.iloc[:, under_sample_data.columns != 'Class']\r\n",
        "y_undersample = under_sample_data.iloc[:, under_sample_data.columns == 'Class']"
      ],
      "execution_count": 12,
      "outputs": []
    },
    {
      "cell_type": "code",
      "metadata": {
        "colab": {
          "base_uri": "https://localhost:8080/"
        },
        "id": "5y469UDy_geM",
        "outputId": "5976ddbd-a355-4ec5-b1c2-f8c89a0f2cb0"
      },
      "source": [
        "print(\"\")\r\n",
        "print(\"Phần trăm giao dịch bình thường:\", len(under_sample_data[under_sample_data.Class == 0])/len(under_sample_data))\r\n",
        "print(\"Phần trăm giao dịch không bình thường:\", len(under_sample_data[under_sample_data.Class == 1])/len(under_sample_data))\r\n",
        "print(\"Tổng số dữ liệu trong giao dịch được lấy mẫu lại:\", len(under_sample_data))"
      ],
      "execution_count": 13,
      "outputs": [
        {
          "output_type": "stream",
          "text": [
            "\n",
            "Phần trăm giao dịch bình thường: 0.5\n",
            "Phần trăm giao dịch không bình thường: 0.5\n",
            "Tổng số dữ liệu trong giao dịch được lấy mẫu lại: 984\n"
          ],
          "name": "stdout"
        }
      ]
    },
    {
      "cell_type": "markdown",
      "metadata": {
        "id": "UrOaN-YtFUoc"
      },
      "source": [
        "    Train Test Split"
      ]
    },
    {
      "cell_type": "code",
      "metadata": {
        "colab": {
          "base_uri": "https://localhost:8080/"
        },
        "id": "8hLl8QhAFUSS",
        "outputId": "0316b412-d5ca-4403-b5a6-ecd47df6d550"
      },
      "source": [
        "from sklearn.model_selection import train_test_split\r\n",
        "\r\n",
        "# toàn bộ dữ liệu\r\n",
        "X_train, X_test, y_train, y_test = train_test_split(X, y, test_size=0.3)\r\n",
        "\r\n",
        "print(\"Tổng giao dịch ở tập train:\", len(X_train))\r\n",
        "print(\"Tổng giao dịch ở tập test:\", len(X_test))\r\n",
        "print(\"Tổng số giao dịch:\", len(X_train)+len(X_test))\r\n",
        "\r\n",
        "# bộ dữ liệu mẫu\r\n",
        "X_train_undersample, X_test_undersample, y_train_undersample, y_test_undersample = train_test_split(\r\n",
        "    X_undersample,\r\n",
        "    y_undersample,\r\n",
        "    test_size = 0.3\r\n",
        ")\r\n",
        "\r\n",
        "print(\"\")\r\n",
        "print(\"Tổng giao dịch ở tập train mới:\",len(X_train_undersample))\r\n",
        "print(\"Tổng giao dịch ở tập test cũ:\", len(y_train_undersample))\r\n",
        "print(\"Tổng số giao dịch:\", len(X_train_undersample)+len(y_train_undersample))"
      ],
      "execution_count": 14,
      "outputs": [
        {
          "output_type": "stream",
          "text": [
            "Tổng giao dịch ở tập train: 199364\n",
            "Tổng giao dịch ở tập test: 85443\n",
            "Tổng số giao dịch: 284807\n",
            "\n",
            "Tổng giao dịch ở tập train mới: 688\n",
            "Tổng giao dịch ở tập test cũ: 688\n",
            "Tổng số giao dịch: 1376\n"
          ],
          "name": "stdout"
        }
      ]
    },
    {
      "cell_type": "markdown",
      "metadata": {
        "id": "4Ko1psxwWnPU"
      },
      "source": [
        "    * Phương thức đánh giá mô hình: Recall\r\n",
        "    Vì sao lại chọn Recall ?\r\n",
        "        - Phương thức recall(thu hồi) dễ dàng nắm bắt các giao dịch gian lận nhất.\r\n",
        "        - Dự đoán là một giao dịch bình thường, nhưng trên thực tế là một giao dịch gian lận. --> công thức Recall và confusion matrix sẽ chứng minh được. "
      ]
    },
    {
      "cell_type": "markdown",
      "metadata": {
        "id": "XQgQQh1uZYhm"
      },
      "source": [
        "    Build Model"
      ]
    },
    {
      "cell_type": "code",
      "metadata": {
        "id": "KjiiLm7WZXqw"
      },
      "source": [
        "from sklearn.linear_model import LogisticRegression\r\n",
        "from sklearn.model_selection import  KFold, cross_val_score\r\n",
        "from sklearn.metrics import confusion_matrix,precision_recall_curve,auc,roc_auc_score,roc_curve,recall_score,classification_report"
      ],
      "execution_count": 15,
      "outputs": []
    },
    {
      "cell_type": "code",
      "metadata": {
        "id": "-z2GsFaraZpp"
      },
      "source": [
        "def printing_Kfold_scores(x_train_data, y_train_data):\r\n",
        "\r\n",
        "    fold = KFold(5, shuffle=False)\r\n",
        "\r\n",
        "    # các thông số C khác nhau\r\n",
        "    c_param_range = [0.1, 1, 10, 100, 10000] # tham số tự do\r\n",
        "\r\n",
        "    results_table = pd.DataFrame(index=range(len(c_param_range), 2), columns=['C_parameter', 'Mean recall score'])\r\n",
        "    results_table['C_parameter'] = c_param_range\r\n",
        "\r\n",
        "    # xuất 2 thông tin của Kfold\r\n",
        "    j = 0 \r\n",
        "    for c_param in c_param_range:\r\n",
        "        print('-----------------------------')\r\n",
        "        print('Tham số C:', c_param)\r\n",
        "        print('-----------------------------')\r\n",
        "        print('')\r\n",
        "\r\n",
        "        recall_accs = []\r\n",
        "        for iteration, indices in enumerate(fold.split(x_train_data)): \r\n",
        "            lr = LogisticRegression(C = c_param, penalty = 'l1', solver='liblinear')   \r\n",
        "            lr.fit(x_train_data.iloc[indices[0],:],y_train_data.iloc[indices[0],:].values.ravel())  \r\n",
        "            y_pred_undersample = lr.predict(x_train_data.iloc[indices[1],:].values)  \r\n",
        "            recall_acc = recall_score(y_train_data.iloc[indices[1],:].values,y_pred_undersample) \r\n",
        "            recall_accs.append(recall_acc)\r\n",
        "            print('Vòng lặp ', iteration,': Điểm recall = ', recall_acc)\r\n",
        "\r\n",
        "        # tính giá trị trung bình của các thông số ở trên\r\n",
        "        results_table.loc[j,'Mean recall score'] = np.mean(recall_accs)\r\n",
        "        j += 1\r\n",
        "        print('')\r\n",
        "        print('Trung bình điểm recall:', np.mean(recall_accs))\r\n",
        "        print('')\r\n",
        "\r\n",
        "    best_c = results_table.loc[results_table['Mean recall score'].astype(float).idxmax()]['C_parameter']\r\n",
        "\r\n",
        "    # Finally, we can check which C parameter is the best amongst the chosen.\r\n",
        "    print('*********************************************************************************')\r\n",
        "    print('Model tốt nhất từ cross-validation với tham số C = ', best_c)\r\n",
        "    print('*********************************************************************************')\r\n",
        "\r\n",
        "    return best_c\r\n"
      ],
      "execution_count": 16,
      "outputs": []
    },
    {
      "cell_type": "code",
      "metadata": {
        "colab": {
          "base_uri": "https://localhost:8080/"
        },
        "id": "83j8sl3ZhLGK",
        "outputId": "57d5be60-dcc2-4646-d76f-59b4b376bb33"
      },
      "source": [
        "best_c = printing_Kfold_scores(X_train_undersample, y_train_undersample)"
      ],
      "execution_count": 17,
      "outputs": [
        {
          "output_type": "stream",
          "text": [
            "-----------------------------\n",
            "Tham số C: 0.1\n",
            "-----------------------------\n",
            "\n",
            "Vòng lặp  0 : Điểm recall =  0.9047619047619048\n",
            "Vòng lặp  1 : Điểm recall =  0.92\n",
            "Vòng lặp  2 : Điểm recall =  0.9315068493150684\n",
            "Vòng lặp  3 : Điểm recall =  0.9393939393939394\n",
            "Vòng lặp  4 : Điểm recall =  0.8529411764705882\n",
            "\n",
            "Trung bình điểm recall: 0.9097207739883002\n",
            "\n",
            "-----------------------------\n",
            "Tham số C: 1\n",
            "-----------------------------\n",
            "\n",
            "Vòng lặp  0 : Điểm recall =  0.9047619047619048\n",
            "Vòng lặp  1 : Điểm recall =  0.9333333333333333\n",
            "Vòng lặp  2 : Điểm recall =  0.9315068493150684\n",
            "Vòng lặp  3 : Điểm recall =  0.9545454545454546\n",
            "Vòng lặp  4 : Điểm recall =  0.8676470588235294\n",
            "\n",
            "Trung bình điểm recall: 0.9183589201558581\n",
            "\n",
            "-----------------------------\n",
            "Tham số C: 10\n",
            "-----------------------------\n",
            "\n",
            "Vòng lặp  0 : Điểm recall =  0.9047619047619048\n",
            "Vòng lặp  1 : Điểm recall =  0.9466666666666667\n",
            "Vòng lặp  2 : Điểm recall =  0.9315068493150684\n",
            "Vòng lặp  3 : Điểm recall =  0.9696969696969697\n",
            "Vòng lặp  4 : Điểm recall =  0.8676470588235294\n",
            "\n",
            "Trung bình điểm recall: 0.9240558898528277\n",
            "\n",
            "-----------------------------\n",
            "Tham số C: 100\n",
            "-----------------------------\n",
            "\n",
            "Vòng lặp  0 : Điểm recall =  0.9047619047619048\n",
            "Vòng lặp  1 : Điểm recall =  0.9466666666666667\n",
            "Vòng lặp  2 : Điểm recall =  0.9315068493150684\n",
            "Vòng lặp  3 : Điểm recall =  0.9696969696969697\n",
            "Vòng lặp  4 : Điểm recall =  0.8676470588235294\n",
            "\n",
            "Trung bình điểm recall: 0.9240558898528277\n",
            "\n",
            "-----------------------------\n",
            "Tham số C: 10000\n",
            "-----------------------------\n",
            "\n",
            "Vòng lặp  0 : Điểm recall =  0.9047619047619048\n",
            "Vòng lặp  1 : Điểm recall =  0.9466666666666667\n",
            "Vòng lặp  2 : Điểm recall =  0.9315068493150684\n",
            "Vòng lặp  3 : Điểm recall =  0.9696969696969697\n",
            "Vòng lặp  4 : Điểm recall =  0.8676470588235294\n",
            "\n",
            "Trung bình điểm recall: 0.9240558898528277\n",
            "\n",
            "*********************************************************************************\n",
            "Model tốt nhất từ cross-validation với tham số C =  10.0\n",
            "*********************************************************************************\n"
          ],
          "name": "stdout"
        }
      ]
    },
    {
      "cell_type": "markdown",
      "metadata": {
        "id": "MGM3GPpY37Xk"
      },
      "source": [
        "    Confusion Matrix"
      ]
    },
    {
      "cell_type": "code",
      "metadata": {
        "id": "_HqKI-gw4BXo"
      },
      "source": [
        "import itertools\r\n",
        "\r\n",
        "def plot_confusion_matrix(cm, classes, normalize=False,\r\n",
        "                          title='Confusion Matrix',\r\n",
        "                          cmap=plt.cm.Blues):\r\n",
        "    \r\n",
        "    \"\"\"\r\n",
        "    Đây là hàm dùng để vẽ và in ma trận nhầm lẫn.\r\n",
        "    Có thể áp dụng chuẩn hóa bằng cách đặt normalize=True.\r\n",
        "    \"\"\"\r\n",
        "\r\n",
        "    plt.imshow(cm, interpolation='nearest', cmap=cmap)\r\n",
        "    plt.title(title)\r\n",
        "    plt.colorbar()\r\n",
        "    tick_marks = np.arange(len(classes))\r\n",
        "    plt.xticks(tick_marks, classes, rotation=0)\r\n",
        "    plt.yticks(tick_marks, classes)\r\n",
        "\r\n",
        "    if normalize:\r\n",
        "        cm = cm.astype('float') / cm.sum(axis=1)[:, np.newaxis]\r\n",
        "        # print('Chuẩn hóa confusion matrix')\r\n",
        "    else:\r\n",
        "        1\r\n",
        "    #print(cm)\r\n",
        "\r\n",
        "    thresh = cm.max()/2\r\n",
        "    for i, j in itertools.product(range(cm.shape[0]), range(cm.shape[1])):\r\n",
        "        plt.text(j, i, cm[i, j],\r\n",
        "                 horizontalalignment='center',\r\n",
        "                 color='white' if cm[i, j]> thresh else 'black')\r\n",
        "    \r\n",
        "    plt.tight_layout()\r\n",
        "    plt.ylabel('Thực tế')\r\n",
        "    plt.xlabel('Dự đoán')"
      ],
      "execution_count": 18,
      "outputs": []
    },
    {
      "cell_type": "code",
      "metadata": {
        "id": "O9XSw8Bo8Zus"
      },
      "source": [
        "lr = LogisticRegression(C = best_c, penalty='l1', solver='liblinear')\r\n",
        "lr.fit(X_train_undersample, y_train_undersample.values.ravel())\r\n",
        "y_pred_undersample = lr.predict(X_test_undersample.values)"
      ],
      "execution_count": 19,
      "outputs": []
    },
    {
      "cell_type": "code",
      "metadata": {
        "id": "rfM858hO9Emd"
      },
      "source": [
        "cnf_matrix = confusion_matrix(y_test_undersample, y_pred_undersample)\r\n",
        "np.set_printoptions(precision=2)"
      ],
      "execution_count": 20,
      "outputs": []
    },
    {
      "cell_type": "code",
      "metadata": {
        "colab": {
          "base_uri": "https://localhost:8080/"
        },
        "id": "ibXth_rk9Ypn",
        "outputId": "1d2281e1-c493-4261-e8a6-79067bba1a3c"
      },
      "source": [
        "print('Phương thức Recall ở tập testing:', cnf_matrix[1,1]/(cnf_matrix[1, 1] + cnf_matrix[1, 0]))"
      ],
      "execution_count": 21,
      "outputs": [
        {
          "output_type": "stream",
          "text": [
            "Phương thức Recall ở tập testing: 0.8979591836734694\n"
          ],
          "name": "stdout"
        }
      ]
    },
    {
      "cell_type": "markdown",
      "metadata": {
        "id": "b8u4iOSH-c0i"
      },
      "source": [
        "    điểm recall ở tập train : 0.9161504209913133\r\n",
        "    điểm recall ở tập test : 0.9225352112676056\r\n"
      ]
    },
    {
      "cell_type": "code",
      "metadata": {
        "colab": {
          "base_uri": "https://localhost:8080/",
          "height": 312
        },
        "id": "fwMDRYr0-SNW",
        "outputId": "b431ab44-aa1d-44d3-b985-785ab56455d4"
      },
      "source": [
        "# visualize \r\n",
        "class_name = [0, 1]\r\n",
        "plt.figure()\r\n",
        "plot_confusion_matrix(cnf_matrix,\r\n",
        "                      classes=class_name,\r\n",
        "                      title='Confusion Matrix')\r\n",
        "plt.show()"
      ],
      "execution_count": 22,
      "outputs": [
        {
          "output_type": "display_data",
          "data": {
            "image/png": "[encoded data removed]",
            "text/plain": [
              "<Figure size 432x288 with 2 Axes>"
            ]
          },
          "metadata": {
            "tags": [],
            "needs_background": "light"
          }
        }
      ]
    },
    {
      "cell_type": "markdown",
      "metadata": {
        "id": "z6z-toDpA4Lc"
      },
      "source": [
        "    ROC Curve"
      ]
    },
    {
      "cell_type": "code",
      "metadata": {
        "id": "0Wb05sYlBR4h"
      },
      "source": [
        "lr = LogisticRegression(C = best_c, penalty = 'l1', solver='liblinear')\r\n",
        "y_pred_undersample_score = lr.fit(X_train_undersample,y_train_undersample.values.ravel()).decision_function(X_test_undersample.values)\r\n",
        "\r\n",
        "fpr, tpr, thresholds = roc_curve(y_test_undersample.values.ravel(),y_pred_undersample_score)\r\n",
        "roc_auc = auc(fpr,tpr)"
      ],
      "execution_count": 23,
      "outputs": []
    },
    {
      "cell_type": "code",
      "metadata": {
        "colab": {
          "base_uri": "https://localhost:8080/",
          "height": 296
        },
        "id": "Snh79Cy-AW6A",
        "outputId": "65a61add-8934-4b46-dff0-0b963bf28156"
      },
      "source": [
        "plt.title('Những đặc thù có tác dụng với người nhận')\r\n",
        "plt.plot(fpr, tpr, 'b', label='AUC = %0.2f'% roc_auc)\r\n",
        "plt.legend(loc='lower right')\r\n",
        "plt.plot([0, 1], [0, 1], 'r--')\r\n",
        "plt.xlim([-0.1, 1.0])\r\n",
        "plt.ylim([-0.1, 1.01])\r\n",
        "plt.ylabel('Tỉ lệ tích cực thực tế')\r\n",
        "plt.xlabel('Tỉ lệ tích cực sai')\r\n",
        "plt.show()"
      ],
      "execution_count": 24,
      "outputs": [
        {
          "output_type": "display_data",
          "data": {
            "image/png": "[encoded data removed]",
            "text/plain": [
              "<Figure size 432x288 with 1 Axes>"
            ]
          },
          "metadata": {
            "tags": [],
            "needs_background": "light"
          }
        }
      ]
    },
    {
      "cell_type": "markdown",
      "metadata": {
        "id": "2TzM9NNyWkvv"
      },
      "source": [
        "    Với tập dữ liệu ban đầu(Thực)"
      ]
    },
    {
      "cell_type": "code",
      "metadata": {
        "id": "aobtcT5tBRYY",
        "colab": {
          "base_uri": "https://localhost:8080/"
        },
        "outputId": "2b38a440-e573-420e-c684-6f5f62f3168e"
      },
      "source": [
        "best_c = printing_Kfold_scores(X_train, y_train)"
      ],
      "execution_count": 25,
      "outputs": [
        {
          "output_type": "stream",
          "text": [
            "-----------------------------\n",
            "Tham số C: 0.1\n",
            "-----------------------------\n",
            "\n",
            "Vòng lặp  0 : Điểm recall =  0.5692307692307692\n",
            "Vòng lặp  1 : Điểm recall =  0.6212121212121212\n",
            "Vòng lặp  2 : Điểm recall =  0.7301587301587301\n",
            "Vòng lặp  3 : Điểm recall =  0.6326530612244898\n",
            "Vòng lặp  4 : Điểm recall =  0.44594594594594594\n",
            "\n",
            "Trung bình điểm recall: 0.5998401255544114\n",
            "\n",
            "-----------------------------\n",
            "Tham số C: 1\n",
            "-----------------------------\n",
            "\n",
            "Vòng lặp  0 : Điểm recall =  0.6\n",
            "Vòng lặp  1 : Điểm recall =  0.6515151515151515\n",
            "Vòng lặp  2 : Điểm recall =  0.7142857142857143\n",
            "Vòng lặp  3 : Điểm recall =  0.6326530612244898\n",
            "Vòng lặp  4 : Điểm recall =  0.4189189189189189\n",
            "\n",
            "Trung bình điểm recall: 0.6034745691888549\n",
            "\n",
            "-----------------------------\n",
            "Tham số C: 10\n",
            "-----------------------------\n",
            "\n",
            "Vòng lặp  0 : Điểm recall =  0.6153846153846154\n",
            "Vòng lặp  1 : Điểm recall =  0.6666666666666666\n",
            "Vòng lặp  2 : Điểm recall =  0.7142857142857143\n",
            "Vòng lặp  3 : Điểm recall =  0.6326530612244898\n",
            "Vòng lặp  4 : Điểm recall =  0.43243243243243246\n",
            "\n",
            "Trung bình điểm recall: 0.6122844979987837\n",
            "\n",
            "-----------------------------\n",
            "Tham số C: 100\n",
            "-----------------------------\n",
            "\n",
            "Vòng lặp  0 : Điểm recall =  0.6153846153846154\n",
            "Vòng lặp  1 : Điểm recall =  0.6666666666666666\n",
            "Vòng lặp  2 : Điểm recall =  0.7142857142857143\n",
            "Vòng lặp  3 : Điểm recall =  0.6326530612244898\n",
            "Vòng lặp  4 : Điểm recall =  0.43243243243243246\n",
            "\n",
            "Trung bình điểm recall: 0.6122844979987837\n",
            "\n",
            "-----------------------------\n",
            "Tham số C: 10000\n",
            "-----------------------------\n",
            "\n",
            "Vòng lặp  0 : Điểm recall =  0.6153846153846154\n",
            "Vòng lặp  1 : Điểm recall =  0.6666666666666666\n",
            "Vòng lặp  2 : Điểm recall =  0.7142857142857143\n",
            "Vòng lặp  3 : Điểm recall =  0.6326530612244898\n",
            "Vòng lặp  4 : Điểm recall =  0.43243243243243246\n",
            "\n",
            "Trung bình điểm recall: 0.6122844979987837\n",
            "\n",
            "*********************************************************************************\n",
            "Model tốt nhất từ cross-validation với tham số C =  10.0\n",
            "*********************************************************************************\n"
          ],
          "name": "stdout"
        }
      ]
    },
    {
      "cell_type": "code",
      "metadata": {
        "id": "465EC0fkW5hp"
      },
      "source": [
        "lr = LogisticRegression(C = best_c, penalty='l1', solver='liblinear')\r\n",
        "lr.fit(X_train, y_train.values.ravel())\r\n",
        "y_pred = lr.predict(X_test.values)"
      ],
      "execution_count": 28,
      "outputs": []
    },
    {
      "cell_type": "code",
      "metadata": {
        "id": "RnogAGPPXK3u"
      },
      "source": [
        "cnf_matrix = confusion_matrix(y_test, y_pred_undersample)\r\n",
        "np.set_printoptions(precision=2)"
      ],
      "execution_count": 29,
      "outputs": []
    },
    {
      "cell_type": "code",
      "metadata": {
        "colab": {
          "base_uri": "https://localhost:8080/"
        },
        "id": "QIJIKzogXogp",
        "outputId": "ff16e3ea-c566-491b-bd39-d40b40447ede"
      },
      "source": [
        "print('Phương thức Recall ở tập testing:', cnf_matrix[1,1]/(cnf_matrix[1, 1] + cnf_matrix[1, 0]))"
      ],
      "execution_count": 30,
      "outputs": [
        {
          "output_type": "stream",
          "text": [
            "Phương thức Recall ở tập testing: 0.6\n"
          ],
          "name": "stdout"
        }
      ]
    },
    {
      "cell_type": "markdown",
      "metadata": {
        "id": "D5ZEHdjEX8JC"
      },
      "source": [
        "    Đây là dữ liệu thực"
      ]
    },
    {
      "cell_type": "code",
      "metadata": {
        "colab": {
          "base_uri": "https://localhost:8080/",
          "height": 312
        },
        "id": "Zy3mPrBBX4FU",
        "outputId": "408342c8-ca0f-4722-e345-e4bc4f95b655"
      },
      "source": [
        "class_name = [0, 1]\r\n",
        "plt.figure()\r\n",
        "plot_confusion_matrix(cnf_matrix,\r\n",
        "                      classes=class_name,\r\n",
        "                      title='Confusion Matrix')\r\n",
        "plt.show()"
      ],
      "execution_count": 31,
      "outputs": [
        {
          "output_type": "display_data",
          "data": {
            "image/png": "[encoded data removed]",
            "text/plain": [
              "<Figure size 432x288 with 2 Axes>"
            ]
          },
          "metadata": {
            "tags": [],
            "needs_background": "light"
          }
        }
      ]
    },
    {
      "cell_type": "markdown",
      "metadata": {
        "id": "w8kqDu3pZMJR"
      },
      "source": [
        "    Dùng ngưỡng để phân loại"
      ]
    },
    {
      "cell_type": "code",
      "metadata": {
        "colab": {
          "base_uri": "https://localhost:8080/",
          "height": 799
        },
        "id": "PFX9kC6lYnw7",
        "outputId": "0036c3bf-8588-443a-ec92-28a4d307a59b"
      },
      "source": [
        "lr = LogisticRegression(C=0.01, penalty='l1', solver='liblinear')\r\n",
        "lr.fit(X_train_undersample, y_train_undersample.values.ravel())\r\n",
        "y_pred_undersample_proba = lr.predict_proba(X_test_undersample.values)\r\n",
        "\r\n",
        "thresholds = [0.1, 0.2, 0.3, 0.4, 0.5, 0.6, 0.7, 0.8, 0.9]\r\n",
        "\r\n",
        "plt.figure(figsize=(10, 10))\r\n",
        "\r\n",
        "j = 1 \r\n",
        "for i in thresholds:\r\n",
        "    y_test_predictions_high_recall = y_pred_undersample_proba[:, 1] > i\r\n",
        "    \r\n",
        "    plt.subplot(3, 3, j)\r\n",
        "    j += 1\r\n",
        "    \r\n",
        "    cnf_matrix = confusion_matrix(y_test_undersample, y_test_predictions_high_recall)\r\n",
        "    np.set_printoptions(precision=2)\r\n",
        "\r\n",
        "    print('Điểm Recall trên tập dữ liệu testing:', cnf_matrix[1,1]/(cnf_matrix[1,1]+cnf_matrix[1,0]))\r\n",
        "\r\n",
        "    class_name = [0, 1]\r\n",
        "    plot_confusion_matrix(cnf_matrix,\r\n",
        "                          classes=class_name,\r\n",
        "                          title='Ngưỡng >= %s' %i)"
      ],
      "execution_count": 32,
      "outputs": [
        {
          "output_type": "stream",
          "text": [
            "Điểm Recall trên tập dữ liệu testing: 0.9795918367346939\n",
            "Điểm Recall trên tập dữ liệu testing: 0.9455782312925171\n",
            "Điểm Recall trên tập dữ liệu testing: 0.9183673469387755\n",
            "Điểm Recall trên tập dữ liệu testing: 0.8571428571428571\n",
            "Điểm Recall trên tập dữ liệu testing: 0.8095238095238095\n",
            "Điểm Recall trên tập dữ liệu testing: 0.8027210884353742\n",
            "Điểm Recall trên tập dữ liệu testing: 0.7619047619047619\n",
            "Điểm Recall trên tập dữ liệu testing: 0.7142857142857143\n",
            "Điểm Recall trên tập dữ liệu testing: 0.6190476190476191\n"
          ],
          "name": "stdout"
        },
        {
          "output_type": "display_data",
          "data": {
            "image/png": "[encoded data removed]",
            "text/plain": [
              "<Figure size 720x720 with 18 Axes>"
            ]
          },
          "metadata": {
            "tags": [],
            "needs_background": "light"
          }
        }
      ]
    },
    {
      "cell_type": "markdown",
      "metadata": {
        "id": "6NxEMecRcj3c"
      },
      "source": [
        "    Nhận xét:\r\n",
        "        Khi ngưỡng càng lên cao thì điểm Recall càng giảm. Nhưng nhìn vào ô FP thì con số dự đoán\r\n",
        "        cũng giảm theo. Hợp lí."
      ]
    }
  ]
}